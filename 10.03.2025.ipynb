{
 "cells": [
  {
   "cell_type": "markdown",
   "metadata": {},
   "source": [
    "# Data Exploratory"
   ]
  },
  {
   "cell_type": "code",
   "execution_count": 1,
   "metadata": {},
   "outputs": [],
   "source": [
    "import pandas as pd\n",
    "import scipy.stats as st\n",
    "import matplotlib.pyplot as plt\n",
    "import numpy as np\n",
    "import seaborn as sns"
   ]
  },
  {
   "cell_type": "code",
   "execution_count": 10,
   "metadata": {},
   "outputs": [
    {
     "data": {
      "text/html": [
       "<div>\n",
       "<style scoped>\n",
       "    .dataframe tbody tr th:only-of-type {\n",
       "        vertical-align: middle;\n",
       "    }\n",
       "\n",
       "    .dataframe tbody tr th {\n",
       "        vertical-align: top;\n",
       "    }\n",
       "\n",
       "    .dataframe thead th {\n",
       "        text-align: right;\n",
       "    }\n",
       "</style>\n",
       "<table border=\"1\" class=\"dataframe\">\n",
       "  <thead>\n",
       "    <tr style=\"text-align: right;\">\n",
       "      <th></th>\n",
       "      <th>Player</th>\n",
       "      <th>Team</th>\n",
       "      <th>Points</th>\n",
       "      <th>Season</th>\n",
       "    </tr>\n",
       "  </thead>\n",
       "  <tbody>\n",
       "    <tr>\n",
       "      <th>0</th>\n",
       "      <td>Luka Dončić</td>\n",
       "      <td>DAL</td>\n",
       "      <td>2370.0</td>\n",
       "      <td>2024</td>\n",
       "    </tr>\n",
       "    <tr>\n",
       "      <th>1</th>\n",
       "      <td>Shai Gilgeous-Alexander</td>\n",
       "      <td>OKC</td>\n",
       "      <td>2254.0</td>\n",
       "      <td>2024</td>\n",
       "    </tr>\n",
       "    <tr>\n",
       "      <th>2</th>\n",
       "      <td>Giannis Antetokounmpo</td>\n",
       "      <td>MIL</td>\n",
       "      <td>2222.0</td>\n",
       "      <td>2024</td>\n",
       "    </tr>\n",
       "    <tr>\n",
       "      <th>3</th>\n",
       "      <td>Jalen Brunson</td>\n",
       "      <td>NYK</td>\n",
       "      <td>2212.0</td>\n",
       "      <td>2024</td>\n",
       "    </tr>\n",
       "    <tr>\n",
       "      <th>4</th>\n",
       "      <td>Nikola Jokić</td>\n",
       "      <td>DEN</td>\n",
       "      <td>2085.0</td>\n",
       "      <td>2024</td>\n",
       "    </tr>\n",
       "    <tr>\n",
       "      <th>...</th>\n",
       "      <td>...</td>\n",
       "      <td>...</td>\n",
       "      <td>...</td>\n",
       "      <td>...</td>\n",
       "    </tr>\n",
       "    <tr>\n",
       "      <th>17808</th>\n",
       "      <td>Yinka Dare</td>\n",
       "      <td>NJN</td>\n",
       "      <td>0.0</td>\n",
       "      <td>1995</td>\n",
       "    </tr>\n",
       "    <tr>\n",
       "      <th>17809</th>\n",
       "      <td>Tom Hovasse</td>\n",
       "      <td>ATL</td>\n",
       "      <td>0.0</td>\n",
       "      <td>1995</td>\n",
       "    </tr>\n",
       "    <tr>\n",
       "      <th>17810</th>\n",
       "      <td>Rich King</td>\n",
       "      <td>SEA</td>\n",
       "      <td>0.0</td>\n",
       "      <td>1995</td>\n",
       "    </tr>\n",
       "    <tr>\n",
       "      <th>17811</th>\n",
       "      <td>Derrick Phelps</td>\n",
       "      <td>SAC</td>\n",
       "      <td>0.0</td>\n",
       "      <td>1995</td>\n",
       "    </tr>\n",
       "    <tr>\n",
       "      <th>17812</th>\n",
       "      <td>League Average</td>\n",
       "      <td>NaN</td>\n",
       "      <td>NaN</td>\n",
       "      <td>1995</td>\n",
       "    </tr>\n",
       "  </tbody>\n",
       "</table>\n",
       "<p>17813 rows × 4 columns</p>\n",
       "</div>"
      ],
      "text/plain": [
       "                        Player Team  Points  Season\n",
       "0                  Luka Dončić  DAL  2370.0    2024\n",
       "1      Shai Gilgeous-Alexander  OKC  2254.0    2024\n",
       "2        Giannis Antetokounmpo  MIL  2222.0    2024\n",
       "3                Jalen Brunson  NYK  2212.0    2024\n",
       "4                 Nikola Jokić  DEN  2085.0    2024\n",
       "...                        ...  ...     ...     ...\n",
       "17808               Yinka Dare  NJN     0.0    1995\n",
       "17809              Tom Hovasse  ATL     0.0    1995\n",
       "17810                Rich King  SEA     0.0    1995\n",
       "17811           Derrick Phelps  SAC     0.0    1995\n",
       "17812           League Average  NaN     NaN    1995\n",
       "\n",
       "[17813 rows x 4 columns]"
      ]
     },
     "execution_count": 10,
     "metadata": {},
     "output_type": "execute_result"
    }
   ],
   "source": [
    "df = pd.read_csv(\"nba_player_stats_C_Rami.csv\")\n",
    "df"
   ]
  },
  {
   "cell_type": "code",
   "execution_count": 3,
   "metadata": {},
   "outputs": [
    {
     "data": {
      "text/plain": [
       "Index(['Player', 'Team', 'Points', 'Season'], dtype='object')"
      ]
     },
     "execution_count": 3,
     "metadata": {},
     "output_type": "execute_result"
    }
   ],
   "source": [
    "df.columns"
   ]
  },
  {
   "cell_type": "code",
   "execution_count": 4,
   "metadata": {},
   "outputs": [
    {
     "data": {
      "text/plain": [
       "Player     object\n",
       "Team       object\n",
       "Points    float64\n",
       "Season      int64\n",
       "dtype: object"
      ]
     },
     "execution_count": 4,
     "metadata": {},
     "output_type": "execute_result"
    }
   ],
   "source": [
    "df.dtypes"
   ]
  },
  {
   "cell_type": "code",
   "execution_count": 9,
   "metadata": {},
   "outputs": [
    {
     "name": "stdout",
     "output_type": "stream",
     "text": [
      "Missing values per columns:\n",
      "Player     0\n",
      "Team      30\n",
      "Points    30\n",
      "Season     0\n",
      "dtype: int64\n"
     ]
    }
   ],
   "source": [
    "print(\"Missing values per columns:\")\n",
    "print(df.isnull().sum())"
   ]
  },
  {
   "cell_type": "code",
   "execution_count": 7,
   "metadata": {},
   "outputs": [
    {
     "name": "stdout",
     "output_type": "stream",
     "text": [
      "No data found for player: \n"
     ]
    }
   ],
   "source": [
    "def get_player_stats(player_name, df):\n",
    "\n",
    "    # Filter the dataset for the given player\n",
    "    player_data = df[df['Player'].str.lower() == player_name.lower()]\n",
    "    \n",
    "    if player_data.empty:\n",
    "        print(f\"No data found for player: {player_name}\")\n",
    "        return None\n",
    "    \n",
    "    # Sort by season\n",
    "    player_data = player_data.sort_values(by='Season', ascending=True)\n",
    "    \n",
    "    # Print the table\n",
    "    print(player_data)\n",
    "\n",
    "    #Plotting the data\n",
    "    plt.figure(figsize=(10, 5))\n",
    "    sns.lineplot(x=player_data['Season'], y=player_data['Points'], label=player_name)\n",
    "    plt.xlabel(\"Season\")\n",
    "    plt.ylabel(\"Total Points\")\n",
    "    plt.title(f\"Points per Season for {player_name}\")\n",
    "    plt.xticks(player_data['Season'].unique())\n",
    "    plt.grid(True)\n",
    "    plt.show()\n",
    "\n",
    "player_name = input(\"Enter player name: \")\n",
    "get_player_stats(player_name, df)"
   ]
  },
  {
   "cell_type": "code",
   "execution_count": 8,
   "metadata": {},
   "outputs": [
    {
     "name": "stdout",
     "output_type": "stream",
     "text": [
      "No data found for player: \n"
     ]
    },
    {
     "name": "stderr",
     "output_type": "stream",
     "text": [
      "/Users/martine/Library/Python/3.9/lib/python/site-packages/urllib3/__init__.py:35: NotOpenSSLWarning: urllib3 v2 only supports OpenSSL 1.1.1+, currently the 'ssl' module is compiled with 'LibreSSL 2.8.3'. See: https://github.com/urllib3/urllib3/issues/3020\n",
      "  warnings.warn(\n"
     ]
    }
   ],
   "source": [
    "import geopandas as gpd\n",
    "import matplotlib.pyplot as plt\n",
    "import contextily as ctx\n",
    "from shapely.geometry import Point\n",
    "import pandas as pd\n",
    "\n",
    "#Dictionary mapping NBA teams to cities and their approximate coordinates\n",
    "team_city_mapping = {\n",
    "    \"ATL\": (\"Atlanta\", -84.3880, 33.7490),\n",
    "    \"BOS\": (\"Boston\", -71.0589, 42.3601),\n",
    "    \"BKN\": (\"Brooklyn\", -73.9442, 40.6782),\n",
    "    \"CHA\": (\"Charlotte\", -80.8431, 35.2271),\n",
    "    \"CHI\": (\"Chicago\", -87.6298, 41.8781),\n",
    "    \"CLE\": (\"Cleveland\", -81.6944, 41.4993),\n",
    "    \"DAL\": (\"Dallas\", -96.7970, 32.7767),\n",
    "    \"DEN\": (\"Denver\", -104.9903, 39.7392),\n",
    "    \"DET\": (\"Detroit\", -83.0458, 42.3314),\n",
    "    \"GSW\": (\"San Francisco\", -122.4194, 37.7749),\n",
    "    \"HOU\": (\"Houston\", -95.3698, 29.7604),\n",
    "    \"IND\": (\"Indianapolis\", -86.1581, 39.7684),\n",
    "    \"LAC\": (\"Los Angeles\", -118.2437, 34.0522),\n",
    "    \"LAL\": (\"Los Angeles\", -118.2437, 34.0522),\n",
    "    \"MEM\": (\"Memphis\", -90.0490, 35.1495),\n",
    "    \"MIA\": (\"Miami\", -80.1918, 25.7617),\n",
    "    \"MIL\": (\"Milwaukee\", -87.9065, 43.0389),\n",
    "    \"MIN\": (\"Minneapolis\", -93.2650, 44.9778),\n",
    "    \"NOP\": (\"New Orleans\", -90.0715, 29.9511),\n",
    "    \"NYK\": (\"New York\", -74.0060, 40.7128),\n",
    "    \"OKC\": (\"Oklahoma City\", -97.5164, 35.4676),\n",
    "    \"ORL\": (\"Orlando\", -81.3792, 28.5383),\n",
    "    \"PHI\": (\"Philadelphia\", -75.1652, 39.9526),\n",
    "    \"PHX\": (\"Phoenix\", -112.0740, 33.4484),\n",
    "    \"POR\": (\"Portland\", -122.6765, 45.5152),\n",
    "    \"SAC\": (\"Sacramento\", -121.4944, 38.5816),\n",
    "    \"SAS\": (\"San Antonio\", -98.4936, 29.4241),\n",
    "    \"TOR\": (\"Toronto\", -79.3832, 43.6532),\n",
    "    \"UTA\": (\"Salt Lake City\", -111.8910, 40.7608),\n",
    "    \"WAS\": (\"Washington\", -77.0369, 38.9072)\n",
    "}\n",
    "\n",
    "def plotcities(player_name, df):\n",
    "    player_data = df[df['Player'].str.lower() == player_name.lower()]\n",
    "    \n",
    "    if player_data.empty:\n",
    "        print(f\"No data found for player: {player_name}\")\n",
    "        return\n",
    "    \n",
    "    teams = player_data['Team']\n",
    "    \n",
    "    # Get city coordinates\n",
    "    cities = [(team_city_mapping[team][0], team_city_mapping[team][1], team_city_mapping[team][2]) for team in teams if team in team_city_mapping]\n",
    "\n",
    "    if not cities:\n",
    "        print(f\"No mapped cities found for {player_name}.\")\n",
    "        return\n",
    "\n",
    "    # Convert to GeoDataFrame\n",
    "    gdf = gpd.GeoDataFrame(cities, columns=['City', 'Longitude', 'Latitude'])\n",
    "    gdf['geometry'] = [Point(xy) for xy in zip(gdf['Longitude'], gdf['Latitude'])]\n",
    "    gdf = gdf.set_geometry('geometry').set_crs(epsg=4326).to_crs(epsg=3857)\n",
    "\n",
    "    # Assign colors based on amount of points scored\n",
    "    #gdf['color'] = gdf['Points'].apply(lambda p: 'green' if p < 500 else 'blue' if p < 1250 else 'red')\n",
    "\n",
    "    # Plot\n",
    "    fig, ax = plt.subplots(figsize=(12, 8))\n",
    "    gdf.plot(ax=ax, marker='o', color='red', markersize=100, alpha=0.7, edgecolor='black', label=player_name)\n",
    "\n",
    "    # Add basemap\n",
    "    ctx.add_basemap(ax, source=ctx.providers.OpenStreetMap.Mapnik)\n",
    "\n",
    "    ax.set_title(f\"Cities {player_name} Played For\", fontsize=16)\n",
    "    ax.set_axis_off()\n",
    "    plt.legend()\n",
    "    plt.show()\n",
    "\n",
    "# Example usage\n",
    "plotcities(player_name, df)\n"
   ]
  }
 ],
 "metadata": {
  "kernelspec": {
   "display_name": "Python 3",
   "language": "python",
   "name": "python3"
  },
  "language_info": {
   "codemirror_mode": {
    "name": "ipython",
    "version": 3
   },
   "file_extension": ".py",
   "mimetype": "text/x-python",
   "name": "python",
   "nbconvert_exporter": "python",
   "pygments_lexer": "ipython3",
   "version": "3.9.6"
  }
 },
 "nbformat": 4,
 "nbformat_minor": 2
}
